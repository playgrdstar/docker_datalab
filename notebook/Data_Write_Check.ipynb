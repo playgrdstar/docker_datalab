{
 "cells": [
  {
   "cell_type": "code",
   "execution_count": 12,
   "metadata": {},
   "outputs": [],
   "source": [
    "import numpy as np\n",
    "import pandas as pd"
   ]
  },
  {
   "cell_type": "code",
   "execution_count": 18,
   "metadata": {},
   "outputs": [],
   "source": [
    "file_path = '../data/'"
   ]
  },
  {
   "cell_type": "code",
   "execution_count": 19,
   "metadata": {},
   "outputs": [],
   "source": [
    "data = np.random.randint(10, size=(10,10))"
   ]
  },
  {
   "cell_type": "code",
   "execution_count": 20,
   "metadata": {},
   "outputs": [
    {
     "data": {
      "text/plain": [
       "array([[1, 2, 2, 0, 1, 1, 0, 8, 0, 4],\n",
       "       [1, 5, 5, 9, 1, 5, 2, 4, 1, 0],\n",
       "       [9, 1, 0, 8, 4, 6, 6, 7, 8, 4],\n",
       "       [5, 3, 6, 3, 8, 0, 7, 4, 9, 9],\n",
       "       [9, 4, 9, 9, 2, 1, 0, 8, 2, 2],\n",
       "       [7, 0, 8, 9, 6, 0, 2, 0, 4, 5],\n",
       "       [9, 2, 8, 2, 3, 7, 3, 5, 7, 0],\n",
       "       [2, 3, 1, 2, 2, 1, 8, 4, 2, 7],\n",
       "       [8, 4, 6, 0, 2, 4, 0, 3, 5, 8],\n",
       "       [8, 9, 3, 3, 7, 1, 2, 0, 5, 1]])"
      ]
     },
     "execution_count": 20,
     "metadata": {},
     "output_type": "execute_result"
    }
   ],
   "source": [
    "data"
   ]
  },
  {
   "cell_type": "code",
   "execution_count": 21,
   "metadata": {},
   "outputs": [],
   "source": [
    "data_df = pd.DataFrame(data)"
   ]
  },
  {
   "cell_type": "code",
   "execution_count": 22,
   "metadata": {},
   "outputs": [],
   "source": [
    "data_df.to_csv(file_path+'test.csv')"
   ]
  },
  {
   "cell_type": "code",
   "execution_count": null,
   "metadata": {},
   "outputs": [],
   "source": []
  }
 ],
 "metadata": {
  "kernelspec": {
   "display_name": "Python 3",
   "language": "python",
   "name": "python3"
  },
  "language_info": {
   "codemirror_mode": {
    "name": "ipython",
    "version": 3
   },
   "file_extension": ".py",
   "mimetype": "text/x-python",
   "name": "python",
   "nbconvert_exporter": "python",
   "pygments_lexer": "ipython3",
   "version": "3.6.2"
  }
 },
 "nbformat": 4,
 "nbformat_minor": 2
}
