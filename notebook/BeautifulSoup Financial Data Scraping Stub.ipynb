{
 "cells": [
  {
   "cell_type": "code",
   "execution_count": 1,
   "metadata": {},
   "outputs": [],
   "source": [
    "import pandas as pd\n",
    "# alternative to requests\n",
    "import urllib as u\n",
    "from bs4 import BeautifulSoup as bs"
   ]
  },
  {
   "cell_type": "code",
   "execution_count": 2,
   "metadata": {},
   "outputs": [],
   "source": [
    "# get baseurl for quotepage\n",
    "# http://finviz.com/quote.ashx?t=aapl\n",
    "# then retrieve the desired ratio"
   ]
  },
  {
   "cell_type": "code",
   "execution_count": 3,
   "metadata": {},
   "outputs": [],
   "source": [
    "def get_price2book(symbol):   \n",
    "    try:\n",
    "        url = r'http://finviz.com/quote.ashx?t={}'.format(symbol.lower())\n",
    "        html = u.request.urlopen(url).read()\n",
    "        soup = bs(html, 'lxml')\n",
    "        \n",
    "        pb = soup.find(text=r'P/B')\n",
    "        pb_ = pb.find_next(class_='snapshot-td2').text\n",
    "        print('{} price to book = {}'.format(symbol, pb_))\n",
    "        return pb_\n",
    "    except Exception as e:\n",
    "        print(e)"
   ]
  },
  {
   "cell_type": "code",
   "execution_count": 4,
   "metadata": {},
   "outputs": [
    {
     "name": "stdout",
     "output_type": "stream",
     "text": [
      "AMZN price to book = 20.65\n"
     ]
    }
   ],
   "source": [
    "stock_list = ['AMZN']\n",
    "p2b_series = pd.Series(index=stock_list)\n",
    "\n",
    "for sym in stock_list:\n",
    "    p2b_series[sym] = get_price2book(sym)"
   ]
  },
  {
   "cell_type": "markdown",
   "metadata": {},
   "source": [
    "This is how it looks on the page"
   ]
  },
  {
   "cell_type": "markdown",
   "metadata": {},
   "source": [
    "<td width=\"7%\" class=\"snapshot-td2-cp\" align=\"left\" title=\"cssbody=[tooltip_short_bdy] cssheader=[tooltip_short_hdr] body=[Price-to-Book (mrq)] offsetx=[10] offsety=[20] delay=[300]\">P/B</td><td width=\"8%\" class=\"snapshot-td2\" align=\"left\"><b><span style=\"color:#aa0000;\">19.92</span></b></td>"
   ]
  },
  {
   "cell_type": "code",
   "execution_count": null,
   "metadata": {
    "collapsed": true
   },
   "outputs": [],
   "source": []
  }
 ],
 "metadata": {
  "kernelspec": {
   "display_name": "Python 3",
   "language": "python",
   "name": "python3"
  },
  "language_info": {
   "codemirror_mode": {
    "name": "ipython",
    "version": 3
   },
   "file_extension": ".py",
   "mimetype": "text/x-python",
   "name": "python",
   "nbconvert_exporter": "python",
   "pygments_lexer": "ipython3",
   "version": "3.6.2"
  }
 },
 "nbformat": 4,
 "nbformat_minor": 2
}
