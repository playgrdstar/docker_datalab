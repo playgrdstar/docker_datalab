{
 "cells": [
  {
   "cell_type": "markdown",
   "metadata": {},
   "source": [
    "### RSS INGESTION ###"
   ]
  },
  {
   "cell_type": "code",
   "execution_count": 1,
   "metadata": {},
   "outputs": [],
   "source": [
    "#! pip install feedparser"
   ]
  },
  {
   "cell_type": "code",
   "execution_count": 2,
   "metadata": {},
   "outputs": [],
   "source": [
    "import bs4\n",
    "import os\n",
    "import feedparser # For parsing the RSS XML\n",
    "from slugify import slugify"
   ]
  },
  {
   "cell_type": "code",
   "execution_count": 17,
   "metadata": {},
   "outputs": [],
   "source": [
    "feeds = ['http://blog.kaggle.com/feed/']"
   ]
  },
  {
   "cell_type": "code",
   "execution_count": 18,
   "metadata": {},
   "outputs": [],
   "source": [
    "parsed = feedparser.parse(feeds[0])"
   ]
  },
  {
   "cell_type": "code",
   "execution_count": 19,
   "metadata": {},
   "outputs": [],
   "source": [
    "def feed_parser(feed):\n",
    "    parsed = feedparser.parse(feed)\n",
    "    posts = parsed.entries # breaks up the parsed rss feed into posts\n",
    "    for post in posts:\n",
    "        html = post.content[0].get('value') # extract the contents from the post, print(post) to examine\n",
    "        soup = bs4.BeautifulSoup(html, 'html5lib') # same as above\n",
    "        post_title = post.title # get the title in the post, feedparser parsed this\n",
    "        filename = slugify(post_title).lower() + '.txt' # for saving the file\n",
    "        save_dir = '../data/rss/' # Create directory first\n",
    "        filepath = os.path.join(save_dir, filename)\n",
    "        TAGS = ['h1', 'h2', 'h3', 'h4', 'h5', 'h6', 'h7', 'p', 'li'] # as per above, get paras for the list of TAGS\n",
    "        \n",
    "        for tag in soup.find_all(TAGS):\n",
    "            paragraphs = tag.get_text()\n",
    "            with open(filepath, 'a') as f:\n",
    "                f.write(paragraphs + '\\n')"
   ]
  },
  {
   "cell_type": "code",
   "execution_count": 20,
   "metadata": {},
   "outputs": [],
   "source": [
    "for feed in feeds:\n",
    "    feed_parser(feed)"
   ]
  },
  {
   "cell_type": "code",
   "execution_count": null,
   "metadata": {},
   "outputs": [],
   "source": []
  }
 ],
 "metadata": {
  "kernelspec": {
   "display_name": "Python 3",
   "language": "python",
   "name": "python3"
  },
  "language_info": {
   "codemirror_mode": {
    "name": "ipython",
    "version": 3
   },
   "file_extension": ".py",
   "mimetype": "text/x-python",
   "name": "python",
   "nbconvert_exporter": "python",
   "pygments_lexer": "ipython3",
   "version": "3.6.2"
  }
 },
 "nbformat": 4,
 "nbformat_minor": 2
}
