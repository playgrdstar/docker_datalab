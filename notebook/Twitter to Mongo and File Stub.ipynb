{
 "cells": [
  {
   "cell_type": "code",
   "execution_count": 1,
   "metadata": {
    "collapsed": true
   },
   "outputs": [],
   "source": [
    "# The user credential variables to access Twitter API\n",
    "access_token = \"\"\n",
    "access_token_secret = \"\"\n",
    "consumer_key = \"\"\n",
    "consumer_secret = \"\""
   ]
  },
  {
   "cell_type": "code",
   "execution_count": 33,
   "metadata": {
    "collapsed": true,
    "scrolled": true
   },
   "outputs": [],
   "source": [
    "# if these are not included in the docker image yet\n",
    "# ! pip install tweepy\n",
    "# ! pip install awesome-slugify \n",
    "# slugify incompatible with python 3 - unicode"
   ]
  },
  {
   "cell_type": "code",
   "execution_count": 17,
   "metadata": {
    "collapsed": true
   },
   "outputs": [],
   "source": [
    "import tweepy\n",
    "from pymongo import MongoClient\n",
    "from slugify import slugify # used to slugify names - for saving files with unique names"
   ]
  },
  {
   "cell_type": "code",
   "execution_count": 18,
   "metadata": {
    "collapsed": true
   },
   "outputs": [],
   "source": [
    "auth = tweepy.OAuthHandler(consumer_key,consumer_secret)\n",
    "auth.set_access_token(access_token, access_token_secret)"
   ]
  },
  {
   "cell_type": "code",
   "execution_count": 19,
   "metadata": {
    "collapsed": true
   },
   "outputs": [],
   "source": [
    "api = tweepy.API(auth)"
   ]
  },
  {
   "cell_type": "code",
   "execution_count": 20,
   "metadata": {
    "collapsed": true
   },
   "outputs": [],
   "source": [
    "def get_mongo_database(db_name, host='this_mongo'):\n",
    "    conn = MongoClient('this_mongo')\n",
    "    return conn[db_name]"
   ]
  },
  {
   "cell_type": "markdown",
   "metadata": {},
   "source": [
    "Opening up a stream and saving it to Mongo"
   ]
  },
  {
   "cell_type": "code",
   "execution_count": 21,
   "metadata": {
    "collapsed": true
   },
   "outputs": [],
   "source": [
    "from tweepy.streaming import StreamListener\n",
    "import json\n",
    "import time\n",
    "\n",
    "class MyStreamListener(StreamListener):\n",
    "    \"\"\" Streams tweets and saves to a MongoDB database \"\"\"\n",
    "\n",
    "    def __init__(self, api, time_limit=60):\n",
    "        self.api = api\n",
    "        self.start_time = time.time()\n",
    "        self.limit = time_limit\n",
    "        super(tweepy.StreamListener, self).__init__()\n",
    "        self.col = get_mongo_database('tweets')['tweets']\n",
    "\n",
    "    def on_data(self, tweet):\n",
    "        if (time.time() - self.start_time) < self.limit:\n",
    "            self.col.insert_one(json.loads(tweet))\n",
    "        else:\n",
    "            return False\n",
    "\n",
    "    def on_error(self, status):\n",
    "        return True # keep stream open\n",
    "\n",
    "\n",
    "auth = tweepy.OAuthHandler(consumer_key, consumer_secret)\n",
    "auth.set_access_token(access_token, access_token_secret)\n",
    "api = tweepy.API(auth)\n",
    "stream = tweepy.Stream(auth, MyStreamListener(api))\n",
    "\n",
    "# Start the stream with track list of keywords\n",
    "stream.filter(track=['finance', 'risks', 'singapore'])"
   ]
  },
  {
   "cell_type": "code",
   "execution_count": 22,
   "metadata": {
    "collapsed": true
   },
   "outputs": [],
   "source": [
    "tweet_db = get_mongo_database('tweets')"
   ]
  },
  {
   "cell_type": "code",
   "execution_count": 23,
   "metadata": {
    "collapsed": true
   },
   "outputs": [],
   "source": [
    "collect = tweet_db['tweets']"
   ]
  },
  {
   "cell_type": "code",
   "execution_count": 24,
   "metadata": {},
   "outputs": [
    {
     "data": {
      "text/plain": [
       "219"
      ]
     },
     "execution_count": 24,
     "metadata": {},
     "output_type": "execute_result"
    }
   ],
   "source": [
    "len(list(collect.find()))"
   ]
  },
  {
   "cell_type": "markdown",
   "metadata": {},
   "source": [
    "Save to the data folder"
   ]
  },
  {
   "cell_type": "code",
   "execution_count": 36,
   "metadata": {
    "collapsed": true
   },
   "outputs": [],
   "source": [
    "import os\n",
    "\n",
    "users = ['bono']\n",
    "\n",
    "# Use Tweepy's built in function to get the user-time for users in the list\n",
    "# Save their tweets in a file\n",
    "\n",
    "def get_tweets(user_list, tweets=20):\n",
    "    for user in user_list:\n",
    "        user_timeline = api.user_timeline(screen_name=user, count=tweets)\n",
    "        filename = user.lower() + '.txt'\n",
    "        save_dir = '../data/' # Create directory first\n",
    "        filepath = os.path.join(save_dir, filename)\n",
    "        with open(filepath, 'w+') as f:\n",
    "            for idx, tweet in enumerate(user_timeline):\n",
    "                tweet_text = user_timeline[idx].text\n",
    "                f.write(tweet_text + '\\n')"
   ]
  },
  {
   "cell_type": "code",
   "execution_count": 37,
   "metadata": {
    "collapsed": true
   },
   "outputs": [],
   "source": [
    "get_tweets(users, tweets=10)"
   ]
  },
  {
   "cell_type": "code",
   "execution_count": null,
   "metadata": {
    "collapsed": true
   },
   "outputs": [],
   "source": []
  }
 ],
 "metadata": {
  "kernelspec": {
   "display_name": "Python [default]",
   "language": "python",
   "name": "python3"
  },
  "language_info": {
   "codemirror_mode": {
    "name": "ipython",
    "version": 3
   },
   "file_extension": ".py",
   "mimetype": "text/x-python",
   "name": "python",
   "nbconvert_exporter": "python",
   "pygments_lexer": "ipython3",
   "version": "3.5.3"
  }
 },
 "nbformat": 4,
 "nbformat_minor": 2
}
